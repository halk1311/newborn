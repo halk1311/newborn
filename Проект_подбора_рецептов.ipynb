{
  "nbformat": 4,
  "nbformat_minor": 0,
  "metadata": {
    "colab": {
      "name": "Проект подбора рецептов",
      "provenance": [],
      "authorship_tag": "ABX9TyN7pe3A5KS6hIp87Qi3ggIt",
      "include_colab_link": true
    },
    "kernelspec": {
      "name": "python3",
      "display_name": "Python 3"
    },
    "language_info": {
      "name": "python"
    }
  },
  "cells": [
    {
      "cell_type": "markdown",
      "metadata": {
        "id": "view-in-github",
        "colab_type": "text"
      },
      "source": [
        "<a href=\"https://colab.research.google.com/github/halk1311/newborn/blob/main/%D0%9F%D1%80%D0%BE%D0%B5%D0%BA%D1%82_%D0%BF%D0%BE%D0%B4%D0%B1%D0%BE%D1%80%D0%B0_%D1%80%D0%B5%D1%86%D0%B5%D0%BF%D1%82%D0%BE%D0%B2.ipynb\" target=\"_parent\"><img src=\"https://colab.research.google.com/assets/colab-badge.svg\" alt=\"Open In Colab\"/></a>"
      ]
    },
    {
      "cell_type": "markdown",
      "source": [
        "## Программа:\n",
        "- принимает список ингредиентов, которые есть в наличии у пользователя,\n",
        "- возвращает строку с детальным списоком ингдериентв и инструкцией по приготовлению наиболее подходящего веган-рецепта"
      ],
      "metadata": {
        "id": "N6orsC_YPiNh"
      }
    },
    {
      "cell_type": "code",
      "source": [
        "! pip3 install requests #ставим модуль requests\n",
        "! pip3 install beautifulsoup4 #модуль beautifulsoup\n",
        "\n",
        "import requests as rq # работа с интернет-страницей\n",
        "import re # для работы со строкой \n",
        "import pandas as pd # сохранение данных с парсинга в DataFrame\n",
        "from bs4 import BeautifulSoup # парсинг нужных данных\n",
        "# from IPython.display import display # для показа DF при работе в PyCharm"
      ],
      "metadata": {
        "id": "2FdMjoMLRLqm"
      },
      "execution_count": null,
      "outputs": []
    },
    {
      "cell_type": "markdown",
      "source": [
        "# Часть 1. Парсинг и создание DF"
      ],
      "metadata": {
        "id": "M-z-FYr0QD41"
      }
    },
    {
      "cell_type": "markdown",
      "source": [
        "Сайт https://vege.one\n",
        "\n",
        "Категория \"Веган рецепты\""
      ],
      "metadata": {
        "id": "Xv_IGgD5Z-YK"
      }
    },
    {
      "cell_type": "code",
      "source": [
        "# сборка списка с ссылками на рецепты\n",
        "first_page = 'https://vege.one/recipes/veganskie-retsepty/?PAGEN_1='\n",
        "page = rq.get(first_page)\n",
        "page.encoding = 'utf8'\n",
        "soup = BeautifulSoup(page.text,'html.parser')\n",
        "pages = soup.find_all('a', {'class':'pagination__page ajax-trigger'})\n",
        "last_page = int(pages[-2].text) # номер последней страницы\n",
        "pages_list = []\n",
        "add_number = 1\n",
        "for link in range(1, last_page + 1):\n",
        "  pages_list.append(first_page + str(add_number))\n",
        "  add_number += 1\n",
        "r_links_list = []\n",
        "for link in pages_list:\n",
        "  url = link\n",
        "  page = rq.get(url)\n",
        "  page.encoding = 'utf8'\n",
        "  soup = BeautifulSoup(page.text,'html.parser')\n",
        "  all_links = soup.find_all('a', {'class':'dds_link_title'})\n",
        "  for link in all_links:\n",
        "    r_links_list.append('https://vege.one' + link.get('href')) "
      ],
      "metadata": {
        "id": "7d08NX2aUmds"
      },
      "execution_count": null,
      "outputs": []
    },
    {
      "cell_type": "markdown",
      "source": [
        "Функции для работы с каждым рецептом"
      ],
      "metadata": {
        "id": "7A1CUJrMU21-"
      }
    },
    {
      "cell_type": "code",
      "source": [
        "# название блюда\n",
        "def get_dish_name(link):\n",
        "  dish_name = link.find_all('h1', {'class':'recipe_title'})\n",
        "  dish_name = dish_name[0].text\n",
        "  return dish_name\n",
        "\n",
        "# ингредиенты и граммовка\n",
        "def get_ingredients(link):\n",
        "  ingredient_search = link.find_all('li', {'class':'ingredient'})\n",
        "  ingr_info = []\n",
        "  for string in ingredient_search:\n",
        "    list_with_names = string.find_all('span', {'class':'food name'})\n",
        "    for elem in list_with_names:\n",
        "      dish_name = elem.text\n",
        "    if string.find_all('span', {'class':'measure'}) == []: #где-то не указана граммовка или кол-во ингредиента\n",
        "      ingr_measure = '-'\n",
        "    else:\n",
        "      for elem in string.find_all('span', {'class':'measure'}):\n",
        "        ingr_measure = elem.text\n",
        "        ingr_measure = ingr_measure.replace('\\xa0', ' ')\n",
        "    ingr_info.append('%s (%s)' %(dish_name, ingr_measure))\n",
        "    ingr_string = ', '.join(ingr_info)\n",
        "  return ingr_string\n",
        "\n",
        "# только название ингредиентов (далее используется для поиска)\n",
        "def get_ingr_only(link):\n",
        "    ingredient_search = link.find_all('li', {'class':'ingredient'})\n",
        "    ingr_names = []\n",
        "    for string in ingredient_search:\n",
        "        list_with_names = string.find_all('span', {'class':'food name'})\n",
        "        for elem in list_with_names:\n",
        "            ingr_names.append(elem.text.lower())\n",
        "    ingr_only_str = ', '.join(ingr_names)\n",
        "    return ingr_only_str\n",
        "\n",
        "# инструкции по приготовлению\n",
        "def get_instructions(link):\n",
        "  instr = link.find_all('p', {'class':'mt-0'})\n",
        "  instructions = ''\n",
        "  for elem in instr:\n",
        "    instructions = instructions + elem.text\n",
        "  instructions = re.sub('[1-9]+\\n|\\r', '', instructions) # чистка: удаляем ненужные символы (номера шагов, отступы)\n",
        "  instructions = instructions.strip()\n",
        "  instructions\n",
        "  list_instr = instructions.split('.')\n",
        "  if '' in list_instr:\n",
        "    list_instr.remove('')\n",
        "  g_list_instr = []\n",
        "  for sentence in list_instr:\n",
        "    sentence = sentence.strip() + '.'\n",
        "    g_list_instr.append(sentence)\n",
        "  str_instr = ' '.join(g_list_instr)\n",
        "  return str_instr"
      ],
      "metadata": {
        "id": "cJ98VKtAS-h_"
      },
      "execution_count": null,
      "outputs": []
    },
    {
      "cell_type": "markdown",
      "source": [
        "Сборка DF"
      ],
      "metadata": {
        "id": "Yqvdc_goZH-j"
      }
    },
    {
      "cell_type": "code",
      "source": [
        "recipes_dict = {}\n",
        "for link in r_links_list:\n",
        "  page = rq.get(link)\n",
        "  page.encoding = 'utf8'\n",
        "  soup = BeautifulSoup(page.text,'html.parser')\n",
        "  recipes_dict[get_dish_name(soup)] = [link, get_ingredients(soup), get_ingr_only(soup), get_instructions(soup)]\n",
        "recipes_pd = pd.DataFrame.from_dict(recipes_dict, orient='index', columns=[\"Ссылка\", \"Ингредиенты\", \"Ингредиенты(поиск)\", \"Инструкция\"])"
      ],
      "metadata": {
        "id": "Yym3W7GXZJlM"
      },
      "execution_count": null,
      "outputs": []
    },
    {
      "cell_type": "code",
      "source": [
        "display(recipes_pd)"
      ],
      "metadata": {
        "colab": {
          "base_uri": "https://localhost:8080/",
          "height": 608
        },
        "id": "ypT5bA8dbtWj",
        "outputId": "7acf09ca-1220-402c-e8ea-6872a6b662aa"
      },
      "execution_count": null,
      "outputs": [
        {
          "output_type": "display_data",
          "data": {
            "text/html": [
              "\n",
              "  <div id=\"df-64f28c9b-7eb3-473d-8084-d3a77226ee05\">\n",
              "    <div class=\"colab-df-container\">\n",
              "      <div>\n",
              "<style scoped>\n",
              "    .dataframe tbody tr th:only-of-type {\n",
              "        vertical-align: middle;\n",
              "    }\n",
              "\n",
              "    .dataframe tbody tr th {\n",
              "        vertical-align: top;\n",
              "    }\n",
              "\n",
              "    .dataframe thead th {\n",
              "        text-align: right;\n",
              "    }\n",
              "</style>\n",
              "<table border=\"1\" class=\"dataframe\">\n",
              "  <thead>\n",
              "    <tr style=\"text-align: right;\">\n",
              "      <th></th>\n",
              "      <th>Ссылка</th>\n",
              "      <th>Ингредиенты</th>\n",
              "      <th>Ингредиенты(поиск)</th>\n",
              "      <th>Инструкция</th>\n",
              "    </tr>\n",
              "  </thead>\n",
              "  <tbody>\n",
              "    <tr>\n",
              "      <th>Сливочный грибной суп с рисом</th>\n",
              "      <td>https://vege.one/recipes/veganskie-retsepty/ve...</td>\n",
              "      <td>Рис жасмин (5 ст.л), Помидор (2 шт), Шампиньон...</td>\n",
              "      <td>рис жасмин, помидор, шампиньоны, молоко кокосо...</td>\n",
              "      <td>Моем и режем на кусочки грибы. Отправляем вари...</td>\n",
              "    </tr>\n",
              "    <tr>\n",
              "      <th>Салат с кускусом и свёклой</th>\n",
              "      <td>https://vege.one/recipes/veganskie-retsepty/sa...</td>\n",
              "      <td>Кускус (3 ст.л), Свёкла (1 шт), Лук зелёный (п...</td>\n",
              "      <td>кускус, свёкла, лук зелёный, огурец, соль, пер...</td>\n",
              "      <td>Моем и отвариваем свёклу до готовности. Остужа...</td>\n",
              "    </tr>\n",
              "    <tr>\n",
              "      <th>Маджадра</th>\n",
              "      <td>https://vege.one/recipes/veganskie-retsepty/vt...</td>\n",
              "      <td>Чечевица зелёная (1/2 стак), Рис жасмин (1 ста...</td>\n",
              "      <td>чечевица зелёная, рис жасмин, лук репчатый, со...</td>\n",
              "      <td>Зелёную чечевицу замочить в воде комнатной тем...</td>\n",
              "    </tr>\n",
              "    <tr>\n",
              "      <th>Котлетки из цветной капусты и риса</th>\n",
              "      <td>https://vege.one/recipes/veganskie-retsepty/za...</td>\n",
              "      <td>Капуста цветная (300-400 г), Рис круглозёрный ...</td>\n",
              "      <td>капуста цветная, рис круглозёрный, мука нутова...</td>\n",
              "      <td>Помыть и отварить цветную капусту до готовност...</td>\n",
              "    </tr>\n",
              "    <tr>\n",
              "      <th>Пророщенный маш по-корейски</th>\n",
              "      <td>https://vege.one/recipes/veganskie-retsepty/sa...</td>\n",
              "      <td>Маш (150 г), Лук репчатый (1-2 шт), Кинза (1 п...</td>\n",
              "      <td>маш, лук репчатый, кинза, кориандр, паприка, п...</td>\n",
              "      <td>Промываем маш, заливаем кипятком и накрываем к...</td>\n",
              "    </tr>\n",
              "    <tr>\n",
              "      <th>...</th>\n",
              "      <td>...</td>\n",
              "      <td>...</td>\n",
              "      <td>...</td>\n",
              "      <td>...</td>\n",
              "    </tr>\n",
              "    <tr>\n",
              "      <th>Роллы с огурцом и кунжутом</th>\n",
              "      <td>https://vege.one/recipes/veganskie-retsepty/za...</td>\n",
              "      <td>Огурец (1 шт), Водоросли нори (2 листа), Рис к...</td>\n",
              "      <td>огурец, водоросли нори, рис круглозёрный, вода...</td>\n",
              "      <td>Прежде всего нам нужно правильно сварить рис. ...</td>\n",
              "    </tr>\n",
              "    <tr>\n",
              "      <th>Диетическое овсяное печенье с бананом</th>\n",
              "      <td>https://vege.one/recipes/veganskie-retsepty/ve...</td>\n",
              "      <td>Овсяные хлопья (250 г), Банан (5 шт), Корица (...</td>\n",
              "      <td>овсяные хлопья, банан, корица, кардамон, муска...</td>\n",
              "      <td>Берём достаточно глубокую миску, очищаем банан...</td>\n",
              "    </tr>\n",
              "    <tr>\n",
              "      <th>Аквафаба из нута</th>\n",
              "      <td>https://vege.one/recipes/veganskie-retsepty/de...</td>\n",
              "      <td>Нут (200 г), Вода (1 л)</td>\n",
              "      <td>нут, вода</td>\n",
              "      <td>Залить сухой нут большим количеством чистой во...</td>\n",
              "    </tr>\n",
              "    <tr>\n",
              "      <th>Веганская рыба из нори и тофу — «Жареный карась»</th>\n",
              "      <td>https://vege.one/recipes/veganskie-retsepty/za...</td>\n",
              "      <td>Тофу (300 г), Соль (по вкусу), Мускатный орех ...</td>\n",
              "      <td>тофу, соль, мускатный орех, мука пшеничная цел...</td>\n",
              "      <td>Разрезаем тофу на 10 ровных брусочков. Затем б...</td>\n",
              "    </tr>\n",
              "    <tr>\n",
              "      <th>Роллы с баклажаном и сыром из цветной капусты</th>\n",
              "      <td>https://vege.one/recipes/veganskie-retsepty/za...</td>\n",
              "      <td>Рис басмати отваренный (200 г), Киноа отваренн...</td>\n",
              "      <td>рис басмати отваренный, киноа отваренное, уксу...</td>\n",
              "      <td>Рис и киноа промыть и отварить в 2 разных ёмко...</td>\n",
              "    </tr>\n",
              "  </tbody>\n",
              "</table>\n",
              "<p>832 rows × 4 columns</p>\n",
              "</div>\n",
              "      <button class=\"colab-df-convert\" onclick=\"convertToInteractive('df-64f28c9b-7eb3-473d-8084-d3a77226ee05')\"\n",
              "              title=\"Convert this dataframe to an interactive table.\"\n",
              "              style=\"display:none;\">\n",
              "        \n",
              "  <svg xmlns=\"http://www.w3.org/2000/svg\" height=\"24px\"viewBox=\"0 0 24 24\"\n",
              "       width=\"24px\">\n",
              "    <path d=\"M0 0h24v24H0V0z\" fill=\"none\"/>\n",
              "    <path d=\"M18.56 5.44l.94 2.06.94-2.06 2.06-.94-2.06-.94-.94-2.06-.94 2.06-2.06.94zm-11 1L8.5 8.5l.94-2.06 2.06-.94-2.06-.94L8.5 2.5l-.94 2.06-2.06.94zm10 10l.94 2.06.94-2.06 2.06-.94-2.06-.94-.94-2.06-.94 2.06-2.06.94z\"/><path d=\"M17.41 7.96l-1.37-1.37c-.4-.4-.92-.59-1.43-.59-.52 0-1.04.2-1.43.59L10.3 9.45l-7.72 7.72c-.78.78-.78 2.05 0 2.83L4 21.41c.39.39.9.59 1.41.59.51 0 1.02-.2 1.41-.59l7.78-7.78 2.81-2.81c.8-.78.8-2.07 0-2.86zM5.41 20L4 18.59l7.72-7.72 1.47 1.35L5.41 20z\"/>\n",
              "  </svg>\n",
              "      </button>\n",
              "      \n",
              "  <style>\n",
              "    .colab-df-container {\n",
              "      display:flex;\n",
              "      flex-wrap:wrap;\n",
              "      gap: 12px;\n",
              "    }\n",
              "\n",
              "    .colab-df-convert {\n",
              "      background-color: #E8F0FE;\n",
              "      border: none;\n",
              "      border-radius: 50%;\n",
              "      cursor: pointer;\n",
              "      display: none;\n",
              "      fill: #1967D2;\n",
              "      height: 32px;\n",
              "      padding: 0 0 0 0;\n",
              "      width: 32px;\n",
              "    }\n",
              "\n",
              "    .colab-df-convert:hover {\n",
              "      background-color: #E2EBFA;\n",
              "      box-shadow: 0px 1px 2px rgba(60, 64, 67, 0.3), 0px 1px 3px 1px rgba(60, 64, 67, 0.15);\n",
              "      fill: #174EA6;\n",
              "    }\n",
              "\n",
              "    [theme=dark] .colab-df-convert {\n",
              "      background-color: #3B4455;\n",
              "      fill: #D2E3FC;\n",
              "    }\n",
              "\n",
              "    [theme=dark] .colab-df-convert:hover {\n",
              "      background-color: #434B5C;\n",
              "      box-shadow: 0px 1px 3px 1px rgba(0, 0, 0, 0.15);\n",
              "      filter: drop-shadow(0px 1px 2px rgba(0, 0, 0, 0.3));\n",
              "      fill: #FFFFFF;\n",
              "    }\n",
              "  </style>\n",
              "\n",
              "      <script>\n",
              "        const buttonEl =\n",
              "          document.querySelector('#df-64f28c9b-7eb3-473d-8084-d3a77226ee05 button.colab-df-convert');\n",
              "        buttonEl.style.display =\n",
              "          google.colab.kernel.accessAllowed ? 'block' : 'none';\n",
              "\n",
              "        async function convertToInteractive(key) {\n",
              "          const element = document.querySelector('#df-64f28c9b-7eb3-473d-8084-d3a77226ee05');\n",
              "          const dataTable =\n",
              "            await google.colab.kernel.invokeFunction('convertToInteractive',\n",
              "                                                     [key], {});\n",
              "          if (!dataTable) return;\n",
              "\n",
              "          const docLinkHtml = 'Like what you see? Visit the ' +\n",
              "            '<a target=\"_blank\" href=https://colab.research.google.com/notebooks/data_table.ipynb>data table notebook</a>'\n",
              "            + ' to learn more about interactive tables.';\n",
              "          element.innerHTML = '';\n",
              "          dataTable['output_type'] = 'display_data';\n",
              "          await google.colab.output.renderOutput(dataTable, element);\n",
              "          const docLink = document.createElement('div');\n",
              "          docLink.innerHTML = docLinkHtml;\n",
              "          element.appendChild(docLink);\n",
              "        }\n",
              "      </script>\n",
              "    </div>\n",
              "  </div>\n",
              "  "
            ],
            "text/plain": [
              "                                                                                             Ссылка  ...                                         Инструкция\n",
              "Сливочный грибной суп с рисом                     https://vege.one/recipes/veganskie-retsepty/ve...  ...  Моем и режем на кусочки грибы. Отправляем вари...\n",
              "Салат с кускусом и свёклой                        https://vege.one/recipes/veganskie-retsepty/sa...  ...  Моем и отвариваем свёклу до готовности. Остужа...\n",
              "Маджадра                                          https://vege.one/recipes/veganskie-retsepty/vt...  ...  Зелёную чечевицу замочить в воде комнатной тем...\n",
              "Котлетки из цветной капусты и риса                https://vege.one/recipes/veganskie-retsepty/za...  ...  Помыть и отварить цветную капусту до готовност...\n",
              "Пророщенный маш по-корейски                       https://vege.one/recipes/veganskie-retsepty/sa...  ...  Промываем маш, заливаем кипятком и накрываем к...\n",
              "...                                                                                             ...  ...                                                ...\n",
              "Роллы с огурцом и кунжутом                        https://vege.one/recipes/veganskie-retsepty/za...  ...  Прежде всего нам нужно правильно сварить рис. ...\n",
              "Диетическое овсяное печенье с бананом             https://vege.one/recipes/veganskie-retsepty/ve...  ...  Берём достаточно глубокую миску, очищаем банан...\n",
              "Аквафаба из нута                                  https://vege.one/recipes/veganskie-retsepty/de...  ...  Залить сухой нут большим количеством чистой во...\n",
              "Веганская рыба из нори и тофу — «Жареный карась»  https://vege.one/recipes/veganskie-retsepty/za...  ...  Разрезаем тофу на 10 ровных брусочков. Затем б...\n",
              "Роллы с баклажаном и сыром из цветной капусты     https://vege.one/recipes/veganskie-retsepty/za...  ...  Рис и киноа промыть и отварить в 2 разных ёмко...\n",
              "\n",
              "[832 rows x 4 columns]"
            ]
          },
          "metadata": {}
        }
      ]
    },
    {
      "cell_type": "code",
      "source": [
        "# сохраним\n",
        "recipes_pd.to_csv('recipes_pd.csv', encoding=\"utf-16\")"
      ],
      "metadata": {
        "id": "3SqSiEd8ffqk"
      },
      "execution_count": null,
      "outputs": []
    },
    {
      "cell_type": "markdown",
      "source": [
        "Всего 832 рецепта с сайта Vege.one, категория \"Веганские рецепты\""
      ],
      "metadata": {
        "id": "b68Kbvo2QaZx"
      }
    },
    {
      "cell_type": "markdown",
      "source": [
        "Парсинг названий специй. Чтобы пользователь не вводил специи (=для удобства пользователя) по умолчанию считаем, что у него есть ВСЕ специи. + специи в блюде не так важны, как основные ингредиенты"
      ],
      "metadata": {
        "id": "2b5R-2KobRPd"
      }
    },
    {
      "cell_type": "code",
      "source": [
        "# список специй, считаем, что все специи у пользователя есть по умолчанию\n",
        "first_page = 'https://vege.one/food/spetsii/?PAGEN_1='\n",
        "page = rq.get(first_page)\n",
        "page.encoding = 'utf8'\n",
        "soup = BeautifulSoup(page.text,'html.parser')\n",
        "pages = soup.find_all('a', {'class':'pagination__page ajax-trigger'})\n",
        "max_page = int(pages[-2].text)\n",
        "pages_list = []\n",
        "add_number = 1\n",
        "for link in range(1, max_page + 1):\n",
        "    pages_list.append(first_page + str(add_number))\n",
        "    add_number += 1\n",
        "spices_list = []\n",
        "for link in pages_list:\n",
        "  url = link\n",
        "  page = rq.get(url)\n",
        "  page.encoding = 'utf8'\n",
        "  soup = BeautifulSoup(page.text,'html.parser')\n",
        "  all_titles = soup.find_all('h3', {'class':'title'})\n",
        "  for link in all_titles:\n",
        "    spices_list.append(link.text.lower())"
      ],
      "metadata": {
        "id": "vpjGV5ombjaP"
      },
      "execution_count": null,
      "outputs": []
    },
    {
      "cell_type": "markdown",
      "source": [
        "# Часть 2. Взаимодействие с пользователем и поиск"
      ],
      "metadata": {
        "id": "NwLOvareaUhy"
      }
    },
    {
      "cell_type": "markdown",
      "source": [
        "Пользователь вводит ингредиенты"
      ],
      "metadata": {
        "id": "bVqL_CVHcxAF"
      }
    },
    {
      "cell_type": "code",
      "source": [
        "ingr = input('Я помогу тебе подобрать рецепт исходя из имеющихся у тебя ингредиентов.\\nРасскажи, какие ингредиенты у тебя есть. Введи их через запятую, вот так: мука рисовая, молоко кокосовое, ягоды\\n  ')\n",
        "user_input = ingr.lower().split(', ') \n",
        "# перевод в нижний регистр, удаление случайных пробелов, удаление повторов\n",
        "# тофу, соевый соус, водоросли нори, мука пшеничная, мука рисовая, мука ржаная, кешью, арахис, молоко кокосовое, молоко овсяное, молоко миндальное, чечевица красная, чечевица зеленая, чечевица, нут, ягоды, фрукты, яблоко, помидор, огурец, перец, картофель, киноа, кунжут"
      ],
      "metadata": {
        "colab": {
          "base_uri": "https://localhost:8080/"
        },
        "id": "a87iJOgkaiT-",
        "outputId": "453ecfd0-5113-4c26-e8dd-2c9ef5fd5cc2"
      },
      "execution_count": null,
      "outputs": [
        {
          "name": "stdout",
          "output_type": "stream",
          "text": [
            "Я помогу тебе подобрать рецепт исходя из имеющихся у тебя ингредиентов.\n",
            "Расскажи, какие ингредиенты у тебя есть. Введи их через запятую, вот так: мука рисовая, молоко кокосовое, ягоды\n",
            "  тофу, соевый соус, водоросли нори, мука пшеничная, мука рисовая, мука ржаная, кешью, арахис, молоко кокосовое, молоко овсяное, молоко миндальное, чечевица красная, чечевица зеленая, чечевица, нут, ягоды, фрукты, яблоко, помидор, огурец, перец, картофель, киноа, кунжут\n"
          ]
        }
      ]
    },
    {
      "cell_type": "markdown",
      "source": [
        "Добавляем с список ингредиентов пользователя воду и растительное молоко (при условии, что пользователь добавил какое-то растительное молоко)"
      ],
      "metadata": {
        "id": "7Hpx3HtNcz2G"
      }
    },
    {
      "cell_type": "code",
      "source": [
        "user_ingr_list = ['вода']\n",
        "for ingr in user_input:\n",
        "    if re.search('молоко\\D?', ingr) is not None:\n",
        "        user_ingr_list.append('молоко растительное')\n",
        "        user_ingr_list.append(ingr)\n",
        "    else:\n",
        "        user_ingr_list.append(ingr)\n",
        "user_ingr_set = set(user_ingr_list)"
      ],
      "metadata": {
        "id": "rBcm4fnpdFJ-"
      },
      "execution_count": null,
      "outputs": []
    },
    {
      "cell_type": "markdown",
      "source": [
        "Создаем отдельный DF, где есть индекс рецепта (из первого большого DF) и список ингредиентов, очищенный от специй"
      ],
      "metadata": {
        "id": "USGCGUpfgN2a"
      }
    },
    {
      "cell_type": "code",
      "source": [
        "# словарь где ключ - это индекс рецепта из DF, а значение - список ингредиентов (без специй)\n",
        "recipes_pd = pd.read_csv('recipes_pd.csv', encoding = 'utf-16', sep =',')\n",
        "# recipes_pd = pd.read_csv('/Users/alena1/Downloads/recipes_pd.csv', encoding = 'utf-16', sep =',') # при работе локально\n",
        "r_ind_ingr_dict = {}\n",
        "for index in recipes_pd.index:\n",
        "    ingr_with_spices = recipes_pd.iloc[index]['Ингредиенты(поиск)'].split(', ')\n",
        "    clean_ingr = [ingr for ingr in ingr_with_spices if ingr not in spices_list]\n",
        "    r_ind_ingr_dict[index] = clean_ingr"
      ],
      "metadata": {
        "id": "HmNkk6wvgVY4"
      },
      "execution_count": null,
      "outputs": []
    },
    {
      "cell_type": "markdown",
      "source": [
        "Сравнение ингредиентов пользователя и ингредиентов в рецептах, формируем словарь, где ключ - индекс рецепта (из первого большого DF), а значение - десятичная дробь (отношение кол-ва совпадений к кол-ву ингредиентов в рецепте)"
      ],
      "metadata": {
        "id": "-qzKPW0jhDx5"
      }
    },
    {
      "cell_type": "code",
      "source": [
        "ingr_match_dict = {}\n",
        "for key in r_ind_ingr_dict.keys():\n",
        "    ingr_set = set(r_ind_ingr_dict.get(key))\n",
        "    match_score = len(user_ingr_set & ingr_set)/len(ingr_set)\n",
        "    ingr_match_dict[key] = (match_score)"
      ],
      "metadata": {
        "id": "bPugBJDHhDXq"
      },
      "execution_count": null,
      "outputs": []
    },
    {
      "cell_type": "markdown",
      "source": [
        "Делаем из словаря новый DF и сортируем, чтобы сверху были наиболее подходящие рецпты"
      ],
      "metadata": {
        "id": "JmB4DapShpLQ"
      }
    },
    {
      "cell_type": "code",
      "source": [
        "match_df = pd.DataFrame(ingr_match_dict.items(), columns=['номер', 'совпадение'])\n",
        "match_df = match_df.sort_values(by='совпадение', ascending=False)"
      ],
      "metadata": {
        "id": "fHwLX4bOho2s"
      },
      "execution_count": null,
      "outputs": []
    },
    {
      "cell_type": "code",
      "source": [
        "match_df"
      ],
      "metadata": {
        "colab": {
          "base_uri": "https://localhost:8080/",
          "height": 411
        },
        "id": "2XCnHD_UkAZq",
        "outputId": "64477ebe-83b0-4153-f2a4-cf63f67ff772"
      },
      "execution_count": null,
      "outputs": [
        {
          "output_type": "execute_result",
          "data": {
            "text/html": [
              "\n",
              "  <div id=\"df-6cf6b02c-ff26-4afc-8960-eac917aca533\">\n",
              "    <div class=\"colab-df-container\">\n",
              "      <div>\n",
              "<style scoped>\n",
              "    .dataframe tbody tr th:only-of-type {\n",
              "        vertical-align: middle;\n",
              "    }\n",
              "\n",
              "    .dataframe tbody tr th {\n",
              "        vertical-align: top;\n",
              "    }\n",
              "\n",
              "    .dataframe thead th {\n",
              "        text-align: right;\n",
              "    }\n",
              "</style>\n",
              "<table border=\"1\" class=\"dataframe\">\n",
              "  <thead>\n",
              "    <tr style=\"text-align: right;\">\n",
              "      <th></th>\n",
              "      <th>номер</th>\n",
              "      <th>совпадение</th>\n",
              "    </tr>\n",
              "  </thead>\n",
              "  <tbody>\n",
              "    <tr>\n",
              "      <th>491</th>\n",
              "      <td>491</td>\n",
              "      <td>1.0</td>\n",
              "    </tr>\n",
              "    <tr>\n",
              "      <th>822</th>\n",
              "      <td>822</td>\n",
              "      <td>1.0</td>\n",
              "    </tr>\n",
              "    <tr>\n",
              "      <th>464</th>\n",
              "      <td>464</td>\n",
              "      <td>1.0</td>\n",
              "    </tr>\n",
              "    <tr>\n",
              "      <th>592</th>\n",
              "      <td>592</td>\n",
              "      <td>1.0</td>\n",
              "    </tr>\n",
              "    <tr>\n",
              "      <th>325</th>\n",
              "      <td>325</td>\n",
              "      <td>1.0</td>\n",
              "    </tr>\n",
              "    <tr>\n",
              "      <th>...</th>\n",
              "      <td>...</td>\n",
              "      <td>...</td>\n",
              "    </tr>\n",
              "    <tr>\n",
              "      <th>557</th>\n",
              "      <td>557</td>\n",
              "      <td>0.0</td>\n",
              "    </tr>\n",
              "    <tr>\n",
              "      <th>352</th>\n",
              "      <td>352</td>\n",
              "      <td>0.0</td>\n",
              "    </tr>\n",
              "    <tr>\n",
              "      <th>698</th>\n",
              "      <td>698</td>\n",
              "      <td>0.0</td>\n",
              "    </tr>\n",
              "    <tr>\n",
              "      <th>359</th>\n",
              "      <td>359</td>\n",
              "      <td>0.0</td>\n",
              "    </tr>\n",
              "    <tr>\n",
              "      <th>610</th>\n",
              "      <td>610</td>\n",
              "      <td>0.0</td>\n",
              "    </tr>\n",
              "  </tbody>\n",
              "</table>\n",
              "<p>832 rows × 2 columns</p>\n",
              "</div>\n",
              "      <button class=\"colab-df-convert\" onclick=\"convertToInteractive('df-6cf6b02c-ff26-4afc-8960-eac917aca533')\"\n",
              "              title=\"Convert this dataframe to an interactive table.\"\n",
              "              style=\"display:none;\">\n",
              "        \n",
              "  <svg xmlns=\"http://www.w3.org/2000/svg\" height=\"24px\"viewBox=\"0 0 24 24\"\n",
              "       width=\"24px\">\n",
              "    <path d=\"M0 0h24v24H0V0z\" fill=\"none\"/>\n",
              "    <path d=\"M18.56 5.44l.94 2.06.94-2.06 2.06-.94-2.06-.94-.94-2.06-.94 2.06-2.06.94zm-11 1L8.5 8.5l.94-2.06 2.06-.94-2.06-.94L8.5 2.5l-.94 2.06-2.06.94zm10 10l.94 2.06.94-2.06 2.06-.94-2.06-.94-.94-2.06-.94 2.06-2.06.94z\"/><path d=\"M17.41 7.96l-1.37-1.37c-.4-.4-.92-.59-1.43-.59-.52 0-1.04.2-1.43.59L10.3 9.45l-7.72 7.72c-.78.78-.78 2.05 0 2.83L4 21.41c.39.39.9.59 1.41.59.51 0 1.02-.2 1.41-.59l7.78-7.78 2.81-2.81c.8-.78.8-2.07 0-2.86zM5.41 20L4 18.59l7.72-7.72 1.47 1.35L5.41 20z\"/>\n",
              "  </svg>\n",
              "      </button>\n",
              "      \n",
              "  <style>\n",
              "    .colab-df-container {\n",
              "      display:flex;\n",
              "      flex-wrap:wrap;\n",
              "      gap: 12px;\n",
              "    }\n",
              "\n",
              "    .colab-df-convert {\n",
              "      background-color: #E8F0FE;\n",
              "      border: none;\n",
              "      border-radius: 50%;\n",
              "      cursor: pointer;\n",
              "      display: none;\n",
              "      fill: #1967D2;\n",
              "      height: 32px;\n",
              "      padding: 0 0 0 0;\n",
              "      width: 32px;\n",
              "    }\n",
              "\n",
              "    .colab-df-convert:hover {\n",
              "      background-color: #E2EBFA;\n",
              "      box-shadow: 0px 1px 2px rgba(60, 64, 67, 0.3), 0px 1px 3px 1px rgba(60, 64, 67, 0.15);\n",
              "      fill: #174EA6;\n",
              "    }\n",
              "\n",
              "    [theme=dark] .colab-df-convert {\n",
              "      background-color: #3B4455;\n",
              "      fill: #D2E3FC;\n",
              "    }\n",
              "\n",
              "    [theme=dark] .colab-df-convert:hover {\n",
              "      background-color: #434B5C;\n",
              "      box-shadow: 0px 1px 3px 1px rgba(0, 0, 0, 0.15);\n",
              "      filter: drop-shadow(0px 1px 2px rgba(0, 0, 0, 0.3));\n",
              "      fill: #FFFFFF;\n",
              "    }\n",
              "  </style>\n",
              "\n",
              "      <script>\n",
              "        const buttonEl =\n",
              "          document.querySelector('#df-6cf6b02c-ff26-4afc-8960-eac917aca533 button.colab-df-convert');\n",
              "        buttonEl.style.display =\n",
              "          google.colab.kernel.accessAllowed ? 'block' : 'none';\n",
              "\n",
              "        async function convertToInteractive(key) {\n",
              "          const element = document.querySelector('#df-6cf6b02c-ff26-4afc-8960-eac917aca533');\n",
              "          const dataTable =\n",
              "            await google.colab.kernel.invokeFunction('convertToInteractive',\n",
              "                                                     [key], {});\n",
              "          if (!dataTable) return;\n",
              "\n",
              "          const docLinkHtml = 'Like what you see? Visit the ' +\n",
              "            '<a target=\"_blank\" href=https://colab.research.google.com/notebooks/data_table.ipynb>data table notebook</a>'\n",
              "            + ' to learn more about interactive tables.';\n",
              "          element.innerHTML = '';\n",
              "          dataTable['output_type'] = 'display_data';\n",
              "          await google.colab.output.renderOutput(dataTable, element);\n",
              "          const docLink = document.createElement('div');\n",
              "          docLink.innerHTML = docLinkHtml;\n",
              "          element.appendChild(docLink);\n",
              "        }\n",
              "      </script>\n",
              "    </div>\n",
              "  </div>\n",
              "  "
            ],
            "text/plain": [
              "     номер  совпадение\n",
              "491    491         1.0\n",
              "822    822         1.0\n",
              "464    464         1.0\n",
              "592    592         1.0\n",
              "325    325         1.0\n",
              "..     ...         ...\n",
              "557    557         0.0\n",
              "352    352         0.0\n",
              "698    698         0.0\n",
              "359    359         0.0\n",
              "610    610         0.0\n",
              "\n",
              "[832 rows x 2 columns]"
            ]
          },
          "metadata": {},
          "execution_count": 35
        }
      ]
    },
    {
      "cell_type": "markdown",
      "source": [
        "Взаимодействие с пользователем. Даем на выбор несколько (в данном случае 10) рецептов, если пользователю нравится название блюда, выводим состав и инструкцию по приготовлению"
      ],
      "metadata": {
        "id": "QHMliTMviCct"
      }
    },
    {
      "cell_type": "code",
      "source": [
        "number_of_variants = 10\n",
        "for number in range(number_of_variants):\n",
        "    dish_number = int(match_df.iloc[number]['номер'])\n",
        "    dish_name = recipes_pd.iloc[dish_number]['Unnamed: 0']\n",
        "    if number == 0:\n",
        "        print(f'Магия свершилась! Лучшее совпадение - это {dish_name}')\n",
        "        user_answer = input('Интересно?(да/нет)\\n')\n",
        "        if user_answer == 'да':\n",
        "            print(f'Тогда я расскажу поподробнее.\\n'\n",
        "                  f'Вам понадобятся следующие ингредиенты: {recipes_pd.iloc[dish_number][\"Ингредиенты\"]}\\n'\n",
        "                  f'{recipes_pd.iloc[dish_number][\"Инструкция\"]}'\n",
        "                  )\n",
        "            break\n",
        "        # elif user_answer == 'нет':\n",
        "        #     continue\n",
        "    else:\n",
        "        print(f'Вот что еще может подойти: {dish_name}')\n",
        "        user_answer = input('Интересно?(да/нет)\\n')\n",
        "        if user_answer.lower().strip() == 'да':\n",
        "            print(f'Тогда я расскажу поподробнее.\\n'\n",
        "                  f'Вам понадобятся следующие ингредиенты: {recipes_pd.iloc[dish_number][\"Ингредиенты\"]}\\n'\n",
        "                  f'{recipes_pd.iloc[dish_number][\"Инструкция\"]}'\n",
        "                  )\n",
        "            break\n",
        "        elif user_answer == 'нет' and number != (number_of_variants-1):\n",
        "            continue\n",
        "        elif user_answer == 'нет' and number == (number_of_variants-1):\n",
        "            print('Упс, идеи кончились :(')"
      ],
      "metadata": {
        "colab": {
          "base_uri": "https://localhost:8080/"
        },
        "id": "jluSqj-_iK7S",
        "outputId": "8abe7d2b-593e-4769-fc98-3b706d5ca826"
      },
      "execution_count": null,
      "outputs": [
        {
          "output_type": "stream",
          "name": "stdout",
          "text": [
            "Магия свершилась! Лучшее совпадение - это Тесто пельменное\n",
            "Интересно?(да/нет)\n",
            "нет\n",
            "Вот что еще может подойти: Ржаная закваска - видео рецепт\n",
            "Интересно?(да/нет)\n",
            "нет\n",
            "Вот что еще может подойти: Кешью–карри\n",
            "Интересно?(да/нет)\n",
            "нет\n",
            "Вот что еще может подойти: Яблочная пастила\n",
            "Интересно?(да/нет)\n",
            "нет\n",
            "Вот что еще может подойти: Аюрведический чай для очищения бронхов\n",
            "Интересно?(да/нет)\n",
            "нет\n",
            "Вот что еще может подойти: Аквафаба из нута\n",
            "Интересно?(да/нет)\n",
            "нет\n",
            "Вот что еще может подойти: Запечённая картошка, как из костра\n",
            "Интересно?(да/нет)\n",
            "нет\n",
            "Вот что еще может подойти: Заварной крем без глютена\n",
            "Интересно?(да/нет)\n",
            "нет\n",
            "Вот что еще может подойти: Постные хлебцы из ржаной муки\n",
            "Интересно?(да/нет)\n",
            "нет\n",
            "Вот что еще может подойти: Чечевичные булочки без муки\n",
            "Интересно?(да/нет)\n",
            "да\n",
            "Тогда я расскажу поподробнее.\n",
            "Вам понадобятся следующие ингредиенты: Чечевица красная (250 г), Псиллиум (2 ст.л), Вода (50 мл), Соль (1/2 ч.л), Специи (по вкусу)\n",
            "Чечевицу промыть и залить большим количеством воды на ночь (это количество воды в рецепте не указано). Перед приготовлением слить воду и промыть чечевицу. Переложить чечевицу в чашу блендера, добавить 50 мл чистой воды, соль, специи и затем взбить в однородную массу. Переложить чечевичное пюре в глубокую емкость, добавить псиллиум, хорошо вымешать тесто, накрыть полотенцем и оставить на 15 минут. Если псиллиум крупный, то лучше его смолоть предварительно в кофемолке. Разогреть за это время духовку до 180 градусов. После того, как тесто настоялось, можно его еще раз перемешать. Мокрыми руками сформировать булочки и поставить выпекаться в разогретой духовке на 20-25 минут.\n"
          ]
        }
      ]
    },
    {
      "cell_type": "markdown",
      "source": [
        "Пользователь сыт и доволен! :)"
      ],
      "metadata": {
        "id": "d1XoeIotiP_n"
      }
    },
    {
      "cell_type": "markdown",
      "source": [
        "# Проблемы/недочеты/areas for improvement "
      ],
      "metadata": {
        "id": "Z2DPnhGYkhTt"
      }
    },
    {
      "cell_type": "markdown",
      "source": [
        "1) На сайте нет единообразия в наименовании ингредиентов в оформлении карточки с ингредиентами -> трудности при сравнении ингредиентов пользователя и рецепта\n",
        "\n",
        "Например: \n",
        "- \"арахис\", \"арахис жареный\", \"арахис обжаренный\"\n",
        "- \"молоко кокосовое\", \"кокосовое молоко\", \"кокосовое молоко фирмы Alpro\"\n",
        "\n",
        "*Решение*: усовершенствовать алгоритм сравнения\n",
        "\n",
        "2) Пользователю предлагаются нерелевантные рецепты (напитки, супы, салаты и т.п.)\n",
        "\n",
        "*Решение*: разбить рецепты по категориям, дать пользователю возможность выбрать категорию рецепта\n",
        "\n",
        "3) На сайте представлены среди прочего видео-рецепты\n",
        "\n",
        "*Решение*: исключить?"
      ],
      "metadata": {
        "id": "kWoC4cmIky0C"
      }
    }
  ]
}